{
 "cells": [
  {
   "cell_type": "code",
   "execution_count": 1,
   "source": [
    "import numpy as np\r\n",
    "from PIL import Image\r\n",
    "from scipy import ndimage\r\n",
    "#from skimage.feature import register_translation\r\n",
    "from skimage.registration import phase_cross_correlation\r\n",
    "from scipy.ndimage import filters\r\n",
    "from tqdm.notebook import tqdm\r\n",
    "import time\r\n",
    "import os\r\n",
    "from skimage.filters import laplace, sobel\r\n",
    "import matplotlib.pyplot as plt\r\n",
    "from matplotlib.pyplot import figure\r\n",
    "from pathlib import Path"
   ],
   "outputs": [],
   "metadata": {}
  },
  {
   "cell_type": "code",
   "execution_count": 2,
   "source": [
    "def read_tiff(path, n_images):\r\n",
    "    \"\"\"\r\n",
    "    path - Path to the multipage-tiff file\r\n",
    "    n_images - Number of pages in the tiff file\r\n",
    "    \"\"\"\r\n",
    " \r\n",
    "    img = Image.open(path)\r\n",
    "    #images = np.array()\r\n",
    "    images = []\r\n",
    "    for i in range(n_images):\r\n",
    "        try:\r\n",
    "            img.seek(i)\r\n",
    "\r\n",
    "            #np.stack(images, np.array(img))\r\n",
    "            images.append(np.array(img))\r\n",
    "\r\n",
    "        except EOFError:\r\n",
    "            # Not enough frames in img\r\n",
    "            break\r\n",
    "\r\n",
    "    return np.array(images)\r\n",
    "\r\n",
    "def save_seq_as_multitiff_stack(images, file_name):\r\n",
    "    imlist = []\r\n",
    "    for i in range(len(images)):\r\n",
    "\r\n",
    "        imlist.append(Image.fromarray(images[i]))\r\n",
    "        #im.fp.close()\r\n",
    "\r\n",
    "    imlist[0].save(file_name, save_all=True, append_images=imlist[1:])"
   ],
   "outputs": [],
   "metadata": {}
  },
  {
   "cell_type": "code",
   "execution_count": 3,
   "source": [
    "path = Path('c:\\\\Users\\\\fe0968\\\\Documents\\\\data\\\\xenopus\\\\')"
   ],
   "outputs": [],
   "metadata": {}
  },
  {
   "cell_type": "code",
   "execution_count": null,
   "source": [
    "images = read_tiff(path / 'Embryo9_316-320.tif', 5)\r\n",
    "\r\n",
    "res = []\r\n",
    "\r\n",
    "for i in range(5):\r\n",
    "\r\n",
    "    im = images[i].astype(np.float32)\r\n",
    "\r\n",
    "    im = im / np.mean(im)\r\n",
    "\r\n",
    "    res.append(im)\r\n",
    "\r\n",
    "\r\n",
    "save_seq_as_multitiff_stack(res, path / 'embryo_normalized.tif')"
   ],
   "outputs": [],
   "metadata": {}
  }
 ],
 "metadata": {
  "orig_nbformat": 4,
  "language_info": {
   "name": "python",
   "version": "3.8.5",
   "mimetype": "text/x-python",
   "codemirror_mode": {
    "name": "ipython",
    "version": 3
   },
   "pygments_lexer": "ipython3",
   "nbconvert_exporter": "python",
   "file_extension": ".py"
  },
  "kernelspec": {
   "name": "python3",
   "display_name": "Python 3.8.5 64-bit ('fe0968': virtualenv)"
  },
  "interpreter": {
   "hash": "a44f62bfe310e58cc30aa77b22692f7d16881046dcf84271656705d1bde076db"
  }
 },
 "nbformat": 4,
 "nbformat_minor": 2
}